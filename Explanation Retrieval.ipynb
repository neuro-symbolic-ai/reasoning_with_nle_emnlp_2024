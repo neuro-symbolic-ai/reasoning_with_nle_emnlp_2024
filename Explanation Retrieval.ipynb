{
 "cells": [
  {
   "cell_type": "markdown",
   "metadata": {},
   "source": [
    "# Explanation Retrieval via Unification\n",
    "\n",
    "## Unificationist account of explanation\n",
    "\n",
    "One of the main function of an explanatory argument is to fit the explanandum (i.e., the event to be explained) into a broader pattern that maximises unification, showing that a set of apparently unrelated phenomena are part of a common regularity (Kitcher, 1981; Kitcher, 1989). From a linguistic point of view, the process of unification tends to generate sentence-level explanatory patterns that can be reused and instantiated for deriving and explaining many phenomena. In natural language, unification generally emerges as a process of abstraction from the explanandum through the implicit search of common high-level features and similarities between different phenomena.\n",
    "\n",
    "<div>\n",
    "    <img src=\"figures/unification.png\", height=\"300\">\n",
    "    <img src=\"figures/unification_abstraction.png\", height=\"300\">\n",
    "    <img src=\"figures/unification_patterns.png\", height=\"300\">\n",
    "</div>\n",
    "\n",
    "## Leveraging explanatory unification patterns for explanation retrieval\n",
    "\n",
    "How do we model the unification power for explanation retrieval?\n",
    "\n",
    "Given a sentence encoder $e(\\cdot)$, we can model the explanatory relevance of a fact $f_i$ for a given hypothesis $h$ as follows:\n",
    "\n",
    "- Standard Relevance:\n",
    "\n",
    "\\begin{equation}\n",
    "\\small\n",
    "r(f_t, h_t) = sim(e(f_t), e(h_t))\n",
    "\\end{equation}\n",
    "\n",
    "- Unification Power:\n",
    "\n",
    "\\begin{equation}\n",
    "\\small\n",
    "pw(f_i, h) = \\sum_{h_k \\in kNN(h)}^K {sim(e(h),e(h_k))} \\cdot 1_{E_k}(f_i)\n",
    "\\end{equation}  \n",
    "\n",
    "\n",
    "\\begin{equation}\n",
    "\\small\n",
    "    1_{E_k}(f_i) =\n",
    "        \\begin{cases}\n",
    "            1 & \\text{if } f_i \\in E_{k}\\\\\n",
    "            0 & \\text{if } f_i \\notin E_{k}\n",
    "        \\end{cases}\n",
    "\\end{equation}\n",
    "\n",
    "- Joint Explanatory Relevance:\n",
    "\n",
    "\\begin{equation}\n",
    "\\small\n",
    "es(f_t, h_t) = \\lambda \\cdot r(f_t, h_t) + (1-\\lambda) \\cdot pw(f_t, h)\n",
    "\\end{equation}"
   ]
  },
  {
   "cell_type": "markdown",
   "metadata": {
    "id": "mX99N3VFQHgN"
   },
   "source": [
    "## Explanation Retrieval in WorldTree\n",
    "\n",
    "<div>\n",
    "<img src=\"figures/worldtree_corpus.png\" width=\"500\">\n",
    "<br><br>Distribution of explanatory sentences:<br><br>\n",
    "<img src=\"figures/distribution_premises_worldtree.png\" width=\"500\">\n",
    "</div>"
   ]
  },
  {
   "cell_type": "markdown",
   "metadata": {},
   "source": [
    "Load the relevant libraries"
   ]
  },
  {
   "cell_type": "code",
   "execution_count": 1,
   "metadata": {
    "id": "Rh7jOAmbQHgN"
   },
   "outputs": [
    {
     "name": "stderr",
     "output_type": "stream",
     "text": [
      "c:\\Python312\\Lib\\site-packages\\sentence_transformers\\cross_encoder\\CrossEncoder.py:11: TqdmWarning: IProgress not found. Please update jupyter and ipywidgets. See https://ipywidgets.readthedocs.io/en/stable/user_install.html\n",
      "  from tqdm.autonotebook import tqdm, trange\n"
     ]
    }
   ],
   "source": [
    "from retrieval.retrieval_model import *\n",
    "from evaluation.evaluation_model import ExplanationRetrievalEvaluation\n",
    "from sskb import WorldTreeKB\n",
    "from tqdm import tqdm\n",
    "import numpy as np"
   ]
  },
  {
   "cell_type": "markdown",
   "metadata": {
    "id": "P6NftUGNQHgO"
   },
   "source": [
    "Questions pre-processing. Convert into a hypothesis."
   ]
  },
  {
   "cell_type": "code",
   "execution_count": 2,
   "metadata": {
    "id": "3iOvZiChQHgO"
   },
   "outputs": [],
   "source": [
    "def preprocess_wt_questions(question):\n",
    "    edit_surface = question.surface.split(\"(A)\")[0]\n",
    "    correct_answer = question.surface.split(\"(\"+question.annotations[\"AnswerKey\"]+\")\")[1].split(\"(\")[0]\n",
    "    question.surface = edit_surface + \" \" + correct_answer\n",
    "    return question"
   ]
  },
  {
   "cell_type": "markdown",
   "metadata": {
    "id": "9H6k-uluQHgO"
   },
   "source": [
    "Load the WorldTree corpus"
   ]
  },
  {
   "cell_type": "code",
   "execution_count": 3,
   "metadata": {
    "id": "7v0Kd2ZAQHgO",
    "outputId": "3981cb8d-8793-4a56-b7a9-7ff4073d569b"
   },
   "outputs": [
    {
     "name": "stderr",
     "output_type": "stream",
     "text": [
      "Loading fact tables: 100%|██████████| 82/82 [00:02<00:00, 37.54it/s] \n",
      "Loading questions [train]: 2207it [01:03, 34.52it/s]\n",
      "Loading questions [dev]: 496it [00:13, 36.38it/s]\n",
      "Loading questions [test]: 1664it [00:00, 2893.35it/s]\n"
     ]
    }
   ],
   "source": [
    "kb = WorldTreeKB()\n",
    "\n",
    "train_questions = [stt for stt in kb if (stt.annotations[\"type\"] == \"question\" and stt.annotations[\"split\"] == \"train\")]\n",
    "for question in train_questions:\n",
    "    question = preprocess_wt_questions(question)\n",
    "\n",
    "dev_questions = [stt for stt in kb if (stt.annotations[\"type\"] == \"question\" and stt.annotations[\"split\"] == \"dev\")]\n",
    "for question in dev_questions:\n",
    "    question = preprocess_wt_questions(question)\n",
    "\n",
    "facts_kb = [stt for stt in kb if (stt.annotations[\"type\"] == \"fact\")]"
   ]
  },
  {
   "cell_type": "markdown",
   "metadata": {
    "id": "oLz6QVUFQHgP"
   },
   "source": [
    "Print an example of hypothesis and explanation"
   ]
  },
  {
   "cell_type": "code",
   "execution_count": 4,
   "metadata": {
    "id": "DmMPTdJMQHgP",
    "outputId": "8762ae79-264e-484e-e98b-a927b36e6a35"
   },
   "outputs": [
    {
     "name": "stdout",
     "output_type": "stream",
     "text": [
      "\n",
      "Random hypothesis from the Explanation KB:\n",
      "\n",
      "Hypothesis:\n",
      "\n",
      "Ocean tides of Earth are strongly influenced by the Moon. During which lunar phases are ocean tides lowest on Earth?   first quarter and last quarter\n",
      "\n",
      "Explanation:\n",
      "\n",
      "lunar phase is synonymous with moon phase\n",
      "a first quarter is a kind of phase of the moon\n",
      "a last quarter is a kind of phase of the moon\n",
      "the gravitational pull of the Moon  on Earth's oceans causes the tides\n",
      "as the gravitational pull of the moon on the Earth decreases , the size of the tides on Earth decrease\n",
      "the lowest gravitational pull is during a quarter moon\n",
      "\n",
      "Random statements from the Facts KB:\n",
      "\n",
      "groundwater is located under ground; underground\n",
      "nebulae are located outside the solar system\n"
     ]
    }
   ],
   "source": [
    "print(\"\\nRandom hypothesis from the Explanation KB:\\n\")\n",
    "\n",
    "print(\"Hypothesis:\\n\")\n",
    "print(dev_questions[42].surface)\n",
    "print(\"\\nExplanation:\\n\")\n",
    "print(\"\\n\".join([premise.surface for premise in dev_questions[42].premises]))\n",
    "\n",
    "print(\"\\nRandom statements from the Facts KB:\\n\")\n",
    "print(facts_kb[50].surface)\n",
    "print(facts_kb[120].surface)"
   ]
  },
  {
   "cell_type": "markdown",
   "metadata": {
    "id": "j5m25PRiQHgP"
   },
   "source": [
    "Initialize the explanation retrieval models"
   ]
  },
  {
   "cell_type": "code",
   "execution_count": 5,
   "metadata": {
    "id": "8Fe1jRgoQHgQ"
   },
   "outputs": [
    {
     "name": "stderr",
     "output_type": "stream",
     "text": [
      "Preprocessing - BM25: 100%|██████████| 9727/9727 [00:00<00:00, 1946654.98it/s]\n",
      "Preprocessing - Unification: 100%|██████████| 2207/2207 [00:01<00:00, 1968.64it/s]\n"
     ]
    }
   ],
   "source": [
    "# Initialize BM25 model\n",
    "bm25_retriever = BM25Model(facts_kb)\n",
    "# Initialize Unification model\n",
    "solved_cases = train_questions\n",
    "unification_retriever = UnificationModel(facts_kb, solved_cases)\n",
    "# Initialize Ensamble model\n",
    "unification_weigth = 0.2\n",
    "ensemble_model = EnsembleModel([bm25_retriever, unification_retriever], weights=[1-unification_weigth, unification_weigth])"
   ]
  },
  {
   "cell_type": "markdown",
   "metadata": {
    "id": "cXb1DH0HQHgQ"
   },
   "source": [
    "Perform explanation retrieval"
   ]
  },
  {
   "cell_type": "code",
   "execution_count": 6,
   "metadata": {
    "id": "pz-U6w3RQHgQ",
    "outputId": "da267db7-6901-4762-89df-135290465a80"
   },
   "outputs": [
    {
     "name": "stderr",
     "output_type": "stream",
     "text": [
      "BM25 - Processing queries: 100%|██████████| 50/50 [00:02<00:00, 22.16it/s]\n",
      "Unification - Processing queries: 100%|██████████| 50/50 [00:00<00:00, 89.91it/s]\n",
      "BM25 - Processing queries: 100%|██████████| 50/50 [00:01<00:00, 26.49it/s]\n",
      "Unification - Processing queries: 100%|██████████| 50/50 [00:00<00:00, 82.65it/s]\n"
     ]
    }
   ],
   "source": [
    "num_examples = 50\n",
    "    \n",
    "queries_list = [hypothesis.surface for hypothesis in dev_questions[:num_examples]] \n",
    "\n",
    "# Compute BM25 and Unification scores\n",
    "res_bm25 = bm25_retriever.query(queries_list)\n",
    "res_unification = unification_retriever.query(queries_list, top_q = 20)\n",
    "# Ensamble between BM25 and Unification model\n",
    "res_ensemble = ensemble_model.query(queries_list, top_q = 20)"
   ]
  },
  {
   "cell_type": "markdown",
   "metadata": {
    "id": "TXsUbGv2QHgQ"
   },
   "source": [
    "Evaluation"
   ]
  },
  {
   "cell_type": "code",
   "execution_count": 7,
   "metadata": {
    "id": "N7GKRZFjQHgQ",
    "outputId": "3f634941-4f29-48de-ce13-cc0d64ba8a37"
   },
   "outputs": [
    {
     "name": "stderr",
     "output_type": "stream",
     "text": [
      "Processing predictions: 100%|██████████| 50/50 [00:00<00:00, 114.92it/s]\n",
      "Processing evaluation: 100%|██████████| 50/50 [00:00<00:00, 342.18it/s]\n"
     ]
    },
    {
     "name": "stdout",
     "output_type": "stream",
     "text": [
      "MAP BM5: 0.22839637203072288\n"
     ]
    },
    {
     "name": "stderr",
     "output_type": "stream",
     "text": [
      "Processing predictions: 100%|██████████| 50/50 [00:00<00:00, 103.59it/s]\n",
      "Processing evaluation: 100%|██████████| 50/50 [00:00<00:00, 365.17it/s]\n"
     ]
    },
    {
     "name": "stdout",
     "output_type": "stream",
     "text": [
      "MAP Unification: 0.3039692796796842\n"
     ]
    },
    {
     "name": "stderr",
     "output_type": "stream",
     "text": [
      "Processing predictions: 100%|██████████| 50/50 [00:00<00:00, 107.09it/s]\n",
      "Processing evaluation: 100%|██████████| 50/50 [00:00<00:00, 347.41it/s]"
     ]
    },
    {
     "name": "stdout",
     "output_type": "stream",
     "text": [
      "MAP ensamble: 0.3871849125371243\n"
     ]
    },
    {
     "name": "stderr",
     "output_type": "stream",
     "text": [
      "\n"
     ]
    }
   ],
   "source": [
    "references_id = \"UID\"\n",
    "\n",
    "evaluation_model = ExplanationRetrievalEvaluation(dev_questions[:num_examples])\n",
    "\n",
    "print(\"MAP BM5:\", evaluation_model.evaluate(res_bm25, facts_kb)[\"map\"])\n",
    "print(\"MAP Unification:\", evaluation_model.evaluate(res_unification, facts_kb)[\"map\"])\n",
    "print(\"MAP ensamble:\", evaluation_model.evaluate(res_ensemble, facts_kb)[\"map\"])"
   ]
  },
  {
   "cell_type": "markdown",
   "metadata": {
    "id": "bg-XFPnMQHgQ"
   },
   "source": [
    "Ranking Example"
   ]
  },
  {
   "cell_type": "code",
   "execution_count": 8,
   "metadata": {
    "id": "YQCqWzPKQHgQ",
    "outputId": "5223fdd8-e5d3-456f-8082-139353ed7fd2"
   },
   "outputs": [
    {
     "name": "stderr",
     "output_type": "stream",
     "text": [
      "BM25 - Processing queries: 100%|██████████| 1/1 [00:00<00:00, 24.60it/s]\n",
      "Unification - Processing queries: 100%|██████████| 1/1 [00:00<00:00, 57.83it/s]\n",
      "BM25 - Processing queries: 100%|██████████| 1/1 [00:00<00:00, 40.01it/s]\n",
      "Unification - Processing queries: 100%|██████████| 1/1 [00:00<00:00, 90.85it/s]"
     ]
    },
    {
     "name": "stdout",
     "output_type": "stream",
     "text": [
      "\n",
      "Query: What can explain why an apple fall to the ground and the Earth rotates around the Sun?\n",
      "\n",
      "============== BM25 =================\n",
      "\n",
      "the Earth revolves around the sun\n",
      "hailing is when hail fall from clouds to the Earth;ground\n",
      "snowing is when snow fall from clouds to the Earth;ground\n",
      "the Earth rotates on its tilted axis\n",
      "the Earth revolving around the Sun causes the seasons to change; to occur on its axis\n",
      "\n",
      "=========== Unification ==============\n",
      "\n",
      "the Sun is a kind of star\n",
      "gravity;gravitational force causes objects that have mass; substances to be pulled down; to fall on a planet\n",
      "a complete revolution; orbit of the Earth around the sun takes 1; one year; solar year; Earth year\n",
      "a ball is a kind of object\n",
      "years are a kind of unit for measuring time\n",
      "\n",
      "Similar Cases:\n",
      "\n",
      "Which of the following best explains why the Sun appears to move across the sky every day?   Earth rotates on its axis. \n",
      "A student drops a ball. Which force causes the ball to fall to the ground?   gravity \n",
      "Approximately how many times does the Moon revolve around Earth during one revolution of Earth around the Sun?   12 \n",
      "The length of a year is equivalent to the time it takes for one (1) rotation of Earth (2) rotation of the Sun (3) revolution of Earth around the Sun (4) revolution of the Sun around Earth  revolution of Earth around the Sun \n",
      "A student tosses a ball into the air. Which force causes the ball to fall back to the ground?   gravity \n",
      "When Isaac Newton theorized that gravity caused objects to fall to the ground, he had also discovered the force that causes   the planets to orbit the Sun.\n",
      "An Earth year is the length of time it takes for   Earth to revolve once around the Sun\n",
      "Miranda's neighbors have an apple tree in their yard. What is the source of energy for the apple tree?   sunlight \n",
      "Which term describes Earth's orbit around the Sun?   revolution \n",
      "Why do planets stay in orbit around the Sun?   attraction of gravity \n",
      "\n",
      "=========== Ensamble ==============\n",
      "\n",
      "a complete revolution; orbit of the Earth around the sun takes 1; one year; solar year; Earth year\n",
      "the Earth revolves around the sun\n",
      "the Sun is a kind of star\n",
      "the Earth rotates on its tilted axis\n",
      "gravity;gravitational force causes objects that have mass; substances to be pulled down; to fall on a planet\n"
     ]
    },
    {
     "name": "stderr",
     "output_type": "stream",
     "text": [
      "\n"
     ]
    }
   ],
   "source": [
    "query_string = \"What can explain why an apple fall to the ground and the Earth rotates around the Sun?\"\n",
    "\n",
    "bm25_res = bm25_retriever.query([query_string], top_k = 5)[0]\n",
    "\n",
    "unification_res, similar_cases= unification_retriever.query([query_string], top_k = 5, top_q = 10, return_cases = True)\n",
    "unification_res = unification_res[0]\n",
    "similar_cases = similar_cases[0]\n",
    "\n",
    "ensemble_res = ensemble_model.query([query_string], top_k = 5, top_q = 10)[0]\n",
    "\n",
    "print(\"\\nQuery:\", query_string)\n",
    "print(\"\\n============== BM25 =================\\n\")\n",
    "print(\"\\n\".join([facts_kb[int(res[0])].surface for res in bm25_res]))\n",
    "print(\"\\n=========== Unification ==============\\n\")\n",
    "print(\"\\n\".join([facts_kb[int(res[0])].surface for res in unification_res]))\n",
    "\n",
    "print(\"\\nSimilar Cases:\\n\")\n",
    "print(\"\\n\".join([train_questions[int(res[0])].surface for res in similar_cases]))\n",
    "\n",
    "print(\"\\n=========== Ensamble ==============\\n\")\n",
    "print(\"\\n\".join([facts_kb[int(res[0])].surface for res in ensemble_res]))"
   ]
  },
  {
   "cell_type": "markdown",
   "metadata": {
    "id": "u23v5aPzQHgQ"
   },
   "source": [
    "# Natural Language Premise Selection - ProofWiki\n",
    "\n",
    "<div>\n",
    "<img src=\"figures/premise_selection_proofwiki.png\" width=\"700\">\n",
    "<br><br>Distribution of premises:<br><br>\n",
    "<img src=\"figures/distribution_premises_proofwiki.png\" width=\"400\">\n",
    "</div>"
   ]
  },
  {
   "cell_type": "markdown",
   "metadata": {
    "id": "OxDTZPgKQHgQ"
   },
   "source": [
    "Load the ProofWiki corpus"
   ]
  },
  {
   "cell_type": "code",
   "execution_count": 2,
   "metadata": {
    "id": "I3CmXvroQHgQ"
   },
   "outputs": [],
   "source": [
    "from sskb import ProofWikiKB\n",
    "\n",
    "kb = ProofWikiKB.from_resource(\"proofwiki[entities]\")\n",
    "\n",
    "train_propositions = [stt for stt in kb \n",
    "                        if (stt.annotations[\"type\"] == \"proposition\" and stt.annotations[\"split\"] == \"train\")]\n",
    "dev_propositions = [stt for stt in kb \n",
    "                        if (stt.annotations[\"type\"] == \"proposition\" and stt.annotations[\"split\"] == \"dev\")]\n",
    "\n",
    "facts_kb = [stt for stt in kb if (stt.annotations[\"type\"] == \"fact\")]"
   ]
  },
  {
   "cell_type": "markdown",
   "metadata": {
    "id": "GAf4GNSGQHgQ"
   },
   "source": [
    "Print an example of proposition and premises"
   ]
  },
  {
   "cell_type": "code",
   "execution_count": 9,
   "metadata": {
    "id": "-_TrwYGrQHgQ",
    "outputId": "2fc63c5b-0dbf-4252-fedc-a2969f7b0ccb"
   },
   "outputs": [
    {
     "name": "stdout",
     "output_type": "stream",
     "text": [
      "Proposition:\n",
      "\n",
      "Let $x \\in \\Z$ be an even integer.\n",
      "Then $x + 5$ is odd.\n",
      "\n",
      "Premises:\n",
      "\n",
      "An integer $n \\in \\Z$ is '''even''' {{iff}} it is divisible by $2$.\n",
      "An integer $n \\in \\Z$ is '''even''' {{iff}} it is of the form:\n",
      ":$n = 2 r$\n",
      "where $r \\in \\Z$ is an integer.\n",
      "An integer $n \\in \\Z$ is '''even''' {{iff}}:\n",
      ":$x \\equiv 0 \\pmod 2$\n",
      "where the notation denotes congruence modulo $2$.\n",
      "The set of even integers can be denoted $2 \\Z$.\n",
      "The first few non-negative even integers are:\n",
      ":$0, 2, 4, 6, 8, 10, \\ldots$\n",
      "{{EuclidSaid}}\n",
      ":''An '''even number''' is that which is divisible into two equal parts.''\n",
      "{{EuclidDefRefNocat|VII|6|Even Number}}\n",
      "Euclid went further and categorised even numbers according to:\n",
      ": whether they are multiples of $4$\n",
      "and:\n",
      ": whether they have an odd divisor:\n",
      "Let $n$ be an integer.\n",
      "Then $n$ is '''even-times even''' {{iff}} it has $4$ as a divisor.\n",
      "The first few non-negative '''even-times even''' numbers are:\n",
      ":$0, 4, 8, 12, 16, 20, \\ldots$\n",
      "{{EuclidSaid}}\n",
      ":''An '''even-times even number''' is that which is measured by an even number according to an even number.''\n",
      "{{EuclidDefRefNocat|VII|8|Even Times Even}}\n",
      "Let $n$ be an integer.\n",
      "Then $n$ is '''even-times odd''' {{iff}} it has $2$ as a divisor and also an odd number.\n",
      "The first few non-negative '''even-times odd''' numbers are:\n",
      ":$2, 6, 10, 12, 14, 18, \\ldots$\n",
      "{{EuclidSaid}}\n",
      ":''An '''even-times odd number''' is that which is measured by an even number according to an odd number.''\n",
      "{{EuclidDefRefNocat|VII|9|Even Times Odd}}\n",
      "\n",
      "The numbers $\\set {\\ldots, -3, -2, -1, 0, 1, 2, 3, \\ldots}$ are called the '''integers'''.\n",
      "This set is usually denoted $\\Z$.\n",
      "An individual element of $\\Z$ is called '''an integer'''.\n",
      "Let $\\struct {\\N, +}$ be the commutative semigroup of natural numbers under addition.\n",
      "From Inverse Completion of Natural Numbers, we can create $\\struct {\\N', +'}$, an inverse completion of $\\struct {\\N, +}$.\n",
      "From Construction of Inverse Completion, this is done as follows:\n",
      "Let $\\boxtimes$ be the cross-relation defined on $\\N \\times \\N$ by:\n",
      ":$\\tuple {x_1, y_1} \\boxtimes \\tuple {x_2, y_2} \\iff x_1 + y_2 = x_2 + y_1$\n",
      "From Cross-Relation is Congruence Relation, $\\boxtimes$ is a congruence relation.\n",
      "Let $\\struct {\\N \\times \\N, \\oplus}$ be the external direct product of $\\struct {\\N, +}$ with itself, where $\\oplus$ is the operation on $\\N \\times \\N$ induced by $+$ on $\\N$:\n",
      ":$\\tuple {x_1, y_1} \\oplus \\tuple {x_2, y_2} = \\tuple {x_1 + x_2, y_1 + y_2}$\n",
      "Let the quotient structure defined by $\\boxtimes$ be $\\struct {\\dfrac {\\N \\times \\N} \\boxtimes, \\oplus_\\boxtimes}$\n",
      "where $\\oplus_\\boxtimes$ is the operation induced on $\\dfrac {\\N \\times \\N} \\boxtimes$ by $\\oplus$.\n",
      "Let us use $\\N'$ to denote the quotient set $\\dfrac {\\N \\times \\N} \\boxtimes$.\n",
      "Let us use $+'$ to denote the operation $\\oplus_\\boxtimes$.\n",
      "Thus $\\struct {\\N', +'}$ is the Inverse Completion of Natural Numbers.\n",
      "As the Inverse Completion is Unique up to isomorphism, it follows that we can ''define'' the structure $\\struct {\\Z, +}$ which is isomorphic to $\\struct {\\N', +'}$.\n",
      "An element of $\\N'$ is therefore an equivalence class of the congruence relation $\\boxtimes$.\n",
      "So an element of $\\Z$ is the isomorphic image of an element $\\eqclass {\\tuple {a, b} } \\boxtimes$ of $\\dfrac {\\N \\times \\N} \\boxtimes$.\n",
      "The set of elements $\\Z$ is called '''the integers'''.\n",
      "\n",
      "An integer $n \\in \\Z$ is '''even''' {{iff}} it is divisible by $2$.\n",
      "An integer $n \\in \\Z$ is '''even''' {{iff}} it is of the form:\n",
      ":$n = 2 r$\n",
      "where $r \\in \\Z$ is an integer.\n",
      "An integer $n \\in \\Z$ is '''even''' {{iff}}:\n",
      ":$x \\equiv 0 \\pmod 2$\n",
      "where the notation denotes congruence modulo $2$.\n",
      "The set of even integers can be denoted $2 \\Z$.\n",
      "The first few non-negative even integers are:\n",
      ":$0, 2, 4, 6, 8, 10, \\ldots$\n",
      "{{EuclidSaid}}\n",
      ":''An '''even number''' is that which is divisible into two equal parts.''\n",
      "{{EuclidDefRefNocat|VII|6|Even Number}}\n",
      "Euclid went further and categorised even numbers according to:\n",
      ": whether they are multiples of $4$\n",
      "and:\n",
      ": whether they have an odd divisor:\n",
      "Let $n$ be an integer.\n",
      "Then $n$ is '''even-times even''' {{iff}} it has $4$ as a divisor.\n",
      "The first few non-negative '''even-times even''' numbers are:\n",
      ":$0, 4, 8, 12, 16, 20, \\ldots$\n",
      "{{EuclidSaid}}\n",
      ":''An '''even-times even number''' is that which is measured by an even number according to an even number.''\n",
      "{{EuclidDefRefNocat|VII|8|Even Times Even}}\n",
      "Let $n$ be an integer.\n",
      "Then $n$ is '''even-times odd''' {{iff}} it has $2$ as a divisor and also an odd number.\n",
      "The first few non-negative '''even-times odd''' numbers are:\n",
      ":$2, 6, 10, 12, 14, 18, \\ldots$\n",
      "{{EuclidSaid}}\n",
      ":''An '''even-times odd number''' is that which is measured by an even number according to an odd number.''\n",
      "{{EuclidDefRefNocat|VII|9|Even Times Odd}}\n",
      "\n",
      "A statement has a truth value of '''false''' {{iff}} what it says does not match the way that things are.\n",
      "\n",
      "An integer $n \\in \\Z$ is '''even''' {{iff}} it is divisible by $2$.\n",
      "An integer $n \\in \\Z$ is '''even''' {{iff}} it is of the form:\n",
      ":$n = 2 r$\n",
      "where $r \\in \\Z$ is an integer.\n",
      "An integer $n \\in \\Z$ is '''even''' {{iff}}:\n",
      ":$x \\equiv 0 \\pmod 2$\n",
      "where the notation denotes congruence modulo $2$.\n",
      "The set of even integers can be denoted $2 \\Z$.\n",
      "The first few non-negative even integers are:\n",
      ":$0, 2, 4, 6, 8, 10, \\ldots$\n",
      "{{EuclidSaid}}\n",
      ":''An '''even number''' is that which is divisible into two equal parts.''\n",
      "{{EuclidDefRefNocat|VII|6|Even Number}}\n",
      "Euclid went further and categorised even numbers according to:\n",
      ": whether they are multiples of $4$\n",
      "and:\n",
      ": whether they have an odd divisor:\n",
      "Let $n$ be an integer.\n",
      "Then $n$ is '''even-times even''' {{iff}} it has $4$ as a divisor.\n",
      "The first few non-negative '''even-times even''' numbers are:\n",
      ":$0, 4, 8, 12, 16, 20, \\ldots$\n",
      "{{EuclidSaid}}\n",
      ":''An '''even-times even number''' is that which is measured by an even number according to an even number.''\n",
      "{{EuclidDefRefNocat|VII|8|Even Times Even}}\n",
      "Let $n$ be an integer.\n",
      "Then $n$ is '''even-times odd''' {{iff}} it has $2$ as a divisor and also an odd number.\n",
      "The first few non-negative '''even-times odd''' numbers are:\n",
      ":$2, 6, 10, 12, 14, 18, \\ldots$\n",
      "{{EuclidSaid}}\n",
      ":''An '''even-times odd number''' is that which is measured by an even number according to an odd number.''\n",
      "{{EuclidDefRefNocat|VII|9|Even Times Odd}}\n",
      "\n",
      "The numbers $\\set {\\ldots, -3, -2, -1, 0, 1, 2, 3, \\ldots}$ are called the '''integers'''.\n",
      "This set is usually denoted $\\Z$.\n",
      "An individual element of $\\Z$ is called '''an integer'''.\n",
      "Let $\\struct {\\N, +}$ be the commutative semigroup of natural numbers under addition.\n",
      "From Inverse Completion of Natural Numbers, we can create $\\struct {\\N', +'}$, an inverse completion of $\\struct {\\N, +}$.\n",
      "From Construction of Inverse Completion, this is done as follows:\n",
      "Let $\\boxtimes$ be the cross-relation defined on $\\N \\times \\N$ by:\n",
      ":$\\tuple {x_1, y_1} \\boxtimes \\tuple {x_2, y_2} \\iff x_1 + y_2 = x_2 + y_1$\n",
      "From Cross-Relation is Congruence Relation, $\\boxtimes$ is a congruence relation.\n",
      "Let $\\struct {\\N \\times \\N, \\oplus}$ be the external direct product of $\\struct {\\N, +}$ with itself, where $\\oplus$ is the operation on $\\N \\times \\N$ induced by $+$ on $\\N$:\n",
      ":$\\tuple {x_1, y_1} \\oplus \\tuple {x_2, y_2} = \\tuple {x_1 + x_2, y_1 + y_2}$\n",
      "Let the quotient structure defined by $\\boxtimes$ be $\\struct {\\dfrac {\\N \\times \\N} \\boxtimes, \\oplus_\\boxtimes}$\n",
      "where $\\oplus_\\boxtimes$ is the operation induced on $\\dfrac {\\N \\times \\N} \\boxtimes$ by $\\oplus$.\n",
      "Let us use $\\N'$ to denote the quotient set $\\dfrac {\\N \\times \\N} \\boxtimes$.\n",
      "Let us use $+'$ to denote the operation $\\oplus_\\boxtimes$.\n",
      "Thus $\\struct {\\N', +'}$ is the Inverse Completion of Natural Numbers.\n",
      "As the Inverse Completion is Unique up to isomorphism, it follows that we can ''define'' the structure $\\struct {\\Z, +}$ which is isomorphic to $\\struct {\\N', +'}$.\n",
      "An element of $\\N'$ is therefore an equivalence class of the congruence relation $\\boxtimes$.\n",
      "So an element of $\\Z$ is the isomorphic image of an element $\\eqclass {\\tuple {a, b} } \\boxtimes$ of $\\dfrac {\\N \\times \\N} \\boxtimes$.\n",
      "The set of elements $\\Z$ is called '''the integers'''.\n",
      "\n",
      "A '''contradiction''' is a statement which is ''always false'', independently of any relevant circumstances that could theoretically influence its truth value.\n",
      "This has the form:\n",
      ":$p \\land \\neg p$\n",
      "or, equivalently:\n",
      ":$\\neg p \\land p$\n",
      "that is:\n",
      ":'''$p$ is true and, at the same time, $p$ is not true.'''\n",
      "An example of a \"relevant circumstance\" here is the truth value of $p$.\n",
      "The archetypal '''contradiction''' can be symbolised by $\\bot$, and referred to as bottom.\n",
      "Let $\\LL$ be a logical language.\n",
      "Let $\\mathscr P$ be a proof system for $\\LL$.\n",
      "A collection $\\FF$ of logical formulas is '''inconsistent for $\\mathscr P$''' {{iff}}:\n",
      ":For every logical formula $\\phi$, $\\FF \\vdash_{\\mathscr P} \\phi$.\n",
      "That is, ''every'' logical formula $\\phi$ is a provable consequence of $\\FF$.\n",
      "{{transclude:Definition:Unsatisfiable\n",
      "  | section = def\n",
      "  | header = 3\n",
      "  | increase = 1\n",
      "  | title = Unsatisfiable\n",
      "  | link = true\n",
      "}}\n",
      "Let $\\mathbf A$ be a WFF of propositional logic.\n",
      "$\\mathbf A$ is called '''unsatisfiable (for boolean interpretations)''' {{iff}}:\n",
      ":$\\map v {\\mathbf A} = F$\n",
      "for every boolean interpretation $v$ for $\\mathbf A$.\n",
      "In terms of validity, this can be rendered:\n",
      ":$v \\not \\models_{\\mathrm {BI} } \\mathbf A$\n",
      "that is, $\\mathbf A$ is invalid in every boolean interpretation of $\\mathbf A$.\n"
     ]
    }
   ],
   "source": [
    "print(\"Proposition:\\n\")\n",
    "print(dev_propositions[35].surface)\n",
    "print(\"\\nPremises:\\n\")\n",
    "print(\"\\n\\n\".join([premise.surface for premise in dev_propositions[35].premises]))"
   ]
  },
  {
   "cell_type": "markdown",
   "metadata": {},
   "source": [
    "Proposition:\n",
    "\n",
    "Let $x \\in \\Z$ be an even integer.\n",
    "Then $x + 5$ is odd.\n",
    "\n",
    "Premises:\n",
    "\n",
    "An integer $n \\in \\Z$ is even if and only if it is divisible by $2$.\n",
    "An integer $n \\in \\Z$ is even if and only if it is of the form:\n",
    "\n",
    "$n = 2 r$\n",
    "\n",
    "where $r \\in \\Z$ is an integer.\n",
    "\n",
    "An integer $n \\in \\Z$ is even if and only if:\n",
    "\n",
    "$x \\equiv 0 \\pmod 2$\n",
    "\n",
    "where the notation denotes congruence modulo $2$.\n",
    "\n",
    "The set of even integers can be denoted $2 \\Z$.\n",
    "\n",
    "The first few non-negative even integers are:\n",
    "\n",
    "$0, 2, 4, 6, 8, 10, \\ldots$\n",
    "\n",
    "...\n",
    "\n",
    "\n",
    "The numbers $\\set {\\ldots, -3, -2, -1, 0, 1, 2, 3, \\ldots}$ are called the '''integers'''. This set is usually denoted $\\Z$.\n",
    "\n",
    "An individual element of $\\Z$ is called '''an integer'''\n",
    "\n",
    "..."
   ]
  },
  {
   "cell_type": "markdown",
   "metadata": {
    "id": "AbV5oeNFQHgR"
   },
   "source": [
    "Initialize the premise retrieval models"
   ]
  },
  {
   "cell_type": "code",
   "execution_count": 12,
   "metadata": {
    "id": "frziB2JSQHgR"
   },
   "outputs": [
    {
     "name": "stderr",
     "output_type": "stream",
     "text": [
      "Preprocessing - BM25: 100%|██████████| 16205/16205 [00:00<00:00, 1246811.76it/s]\n",
      "Preprocessing - Unification: 100%|██████████| 5540/5540 [00:01<00:00, 3511.31it/s]\n"
     ]
    }
   ],
   "source": [
    "# Initialize BM25 model\n",
    "bm25_retriever = BM25Model(facts_kb)\n",
    "# Initialize Unification model\n",
    "unification_retriever = UnificationModel(facts_kb, train_propositions)"
   ]
  },
  {
   "cell_type": "markdown",
   "metadata": {
    "id": "jVcSaciJQHgR"
   },
   "source": [
    "Perform premise retrieval"
   ]
  },
  {
   "cell_type": "code",
   "execution_count": 13,
   "metadata": {
    "id": "TPcJUMIzQHgR",
    "outputId": "23cc9a3f-2787-495a-c084-413b56690307"
   },
   "outputs": [
    {
     "name": "stderr",
     "output_type": "stream",
     "text": [
      "BM25 - Processing queries: 100%|██████████| 50/50 [00:25<00:00,  1.98it/s]\n",
      "Unification - Processing queries: 100%|██████████| 50/50 [00:06<00:00,  7.65it/s]\n"
     ]
    }
   ],
   "source": [
    "num_examples = 50\n",
    "unification_weigth = 0.5\n",
    "\n",
    "queries_list = [hypothesis.surface for hypothesis in dev_propositions[:num_examples]] \n",
    "\n",
    "# Compute BM25 and Unification scores\n",
    "res_bm25 = bm25_retriever.query(queries_list)\n",
    "res_unification = unification_retriever.query(queries_list, top_q = 10)\n",
    "\n",
    "# Ensamble between BM25 and Unification model\n",
    "res_ensamble = np.sum([(1-unification_weigth) * np.array(res_bm25), \n",
    "                        unification_weigth * np.array(res_unification)], axis = 0)"
   ]
  },
  {
   "cell_type": "markdown",
   "metadata": {
    "id": "BA23GpnCQHgR"
   },
   "source": [
    "Evaluation"
   ]
  },
  {
   "cell_type": "code",
   "execution_count": 14,
   "metadata": {
    "id": "gzGcgLljQHgR",
    "outputId": "3490b087-f785-475e-c96e-e494c63cbb75"
   },
   "outputs": [
    {
     "name": "stderr",
     "output_type": "stream",
     "text": [
      "Processing predictions: 100%|██████████| 50/50 [00:01<00:00, 31.39it/s]\n",
      "Processing evaluation: 100%|██████████| 50/50 [00:00<00:00, 192.72it/s]\n"
     ]
    },
    {
     "name": "stdout",
     "output_type": "stream",
     "text": [
      "MAP BM5: 0.10175165765410338\n"
     ]
    },
    {
     "name": "stderr",
     "output_type": "stream",
     "text": [
      "Processing predictions: 100%|██████████| 50/50 [00:01<00:00, 33.79it/s]\n",
      "Processing evaluation: 100%|██████████| 50/50 [00:00<00:00, 247.34it/s]\n"
     ]
    },
    {
     "name": "stdout",
     "output_type": "stream",
     "text": [
      "MAP Unification: 0.24451411170722584\n"
     ]
    },
    {
     "name": "stderr",
     "output_type": "stream",
     "text": [
      "Processing predictions: 100%|██████████| 50/50 [00:01<00:00, 28.91it/s]\n",
      "Processing evaluation: 100%|██████████| 50/50 [00:00<00:00, 168.14it/s]"
     ]
    },
    {
     "name": "stdout",
     "output_type": "stream",
     "text": [
      "MAP ensamble: 0.27093509360146223\n"
     ]
    },
    {
     "name": "stderr",
     "output_type": "stream",
     "text": [
      "\n"
     ]
    }
   ],
   "source": [
    "references_id = \"id\"\n",
    "\n",
    "evaluation_model = ExplanationRetrievalEvaluation(dev_propositions[:num_examples])\n",
    "\n",
    "print(\"MAP BM5:\", evaluation_model.evaluate(res_bm25, facts_kb)[\"map\"])\n",
    "print(\"MAP Unification:\", evaluation_model.evaluate(res_unification, facts_kb)[\"map\"])\n",
    "print(\"MAP ensamble:\", evaluation_model.evaluate(res_ensamble, facts_kb)[\"map\"])"
   ]
  }
 ],
 "metadata": {
  "colab": {
   "provenance": [
    {
     "file_id": "1ctjt8L7GpZzGMj-Ouu5d-ljvcvbAdHL0",
     "timestamp": 1725540897351
    }
   ]
  },
  "kernelspec": {
   "display_name": "Python 3",
   "language": "python",
   "name": "python3"
  },
  "language_info": {
   "codemirror_mode": {
    "name": "ipython",
    "version": 3
   },
   "file_extension": ".py",
   "mimetype": "text/x-python",
   "name": "python",
   "nbconvert_exporter": "python",
   "pygments_lexer": "ipython3",
   "version": "3.12.1"
  }
 },
 "nbformat": 4,
 "nbformat_minor": 0
}
